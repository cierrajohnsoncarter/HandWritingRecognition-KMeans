{
  "nbformat": 4,
  "nbformat_minor": 0,
  "metadata": {
    "colab": {
      "name": "digits.ipynb",
      "provenance": [],
      "collapsed_sections": [],
      "authorship_tag": "ABX9TyOe3wm1rcXaZTvbpg9hNCA2"
    },
    "kernelspec": {
      "name": "python3",
      "display_name": "Python 3"
    }
  },
  "cells": [
    {
      "cell_type": "markdown",
      "metadata": {
        "id": "6HZFjOJ4G4UD",
        "colab_type": "text"
      },
      "source": [
        "Import the libraries"
      ]
    },
    {
      "cell_type": "code",
      "metadata": {
        "id": "K6VyDwQzG3gM",
        "colab_type": "code",
        "colab": {
          "base_uri": "https://localhost:8080/",
          "height": 73
        },
        "outputId": "8961447d-2e56-45ba-d7e1-d522d881e59d"
      },
      "source": [
        "import seaborn as sns\n",
        "import numpy as np\n",
        "import matplotlib.pyplot as plt\n",
        "from sklearn import datasets\n",
        "from sklearn.cluster import KMeans"
      ],
      "execution_count": 1,
      "outputs": [
        {
          "output_type": "stream",
          "text": [
            "/usr/local/lib/python3.6/dist-packages/statsmodels/tools/_testing.py:19: FutureWarning: pandas.util.testing is deprecated. Use the functions in the public API at pandas.testing instead.\n",
            "  import pandas.util.testing as tm\n"
          ],
          "name": "stderr"
        }
      ]
    },
    {
      "cell_type": "markdown",
      "metadata": {
        "id": "NOUbPlYsHGcl",
        "colab_type": "text"
      },
      "source": [
        "Load the data"
      ]
    },
    {
      "cell_type": "code",
      "metadata": {
        "id": "v6-RJ0D8HIh6",
        "colab_type": "code",
        "colab": {
          "base_uri": "https://localhost:8080/",
          "height": 845
        },
        "outputId": "93136cfd-8878-4961-f5b9-6bbfe227cec7"
      },
      "source": [
        "digits = datasets.load_digits()\n",
        "print(digits.DESCR)"
      ],
      "execution_count": 2,
      "outputs": [
        {
          "output_type": "stream",
          "text": [
            ".. _digits_dataset:\n",
            "\n",
            "Optical recognition of handwritten digits dataset\n",
            "--------------------------------------------------\n",
            "\n",
            "**Data Set Characteristics:**\n",
            "\n",
            "    :Number of Instances: 5620\n",
            "    :Number of Attributes: 64\n",
            "    :Attribute Information: 8x8 image of integer pixels in the range 0..16.\n",
            "    :Missing Attribute Values: None\n",
            "    :Creator: E. Alpaydin (alpaydin '@' boun.edu.tr)\n",
            "    :Date: July; 1998\n",
            "\n",
            "This is a copy of the test set of the UCI ML hand-written digits datasets\n",
            "https://archive.ics.uci.edu/ml/datasets/Optical+Recognition+of+Handwritten+Digits\n",
            "\n",
            "The data set contains images of hand-written digits: 10 classes where\n",
            "each class refers to a digit.\n",
            "\n",
            "Preprocessing programs made available by NIST were used to extract\n",
            "normalized bitmaps of handwritten digits from a preprinted form. From a\n",
            "total of 43 people, 30 contributed to the training set and different 13\n",
            "to the test set. 32x32 bitmaps are divided into nonoverlapping blocks of\n",
            "4x4 and the number of on pixels are counted in each block. This generates\n",
            "an input matrix of 8x8 where each element is an integer in the range\n",
            "0..16. This reduces dimensionality and gives invariance to small\n",
            "distortions.\n",
            "\n",
            "For info on NIST preprocessing routines, see M. D. Garris, J. L. Blue, G.\n",
            "T. Candela, D. L. Dimmick, J. Geist, P. J. Grother, S. A. Janet, and C.\n",
            "L. Wilson, NIST Form-Based Handprint Recognition System, NISTIR 5469,\n",
            "1994.\n",
            "\n",
            ".. topic:: References\n",
            "\n",
            "  - C. Kaynak (1995) Methods of Combining Multiple Classifiers and Their\n",
            "    Applications to Handwritten Digit Recognition, MSc Thesis, Institute of\n",
            "    Graduate Studies in Science and Engineering, Bogazici University.\n",
            "  - E. Alpaydin, C. Kaynak (1998) Cascading Classifiers, Kybernetika.\n",
            "  - Ken Tang and Ponnuthurai N. Suganthan and Xi Yao and A. Kai Qin.\n",
            "    Linear dimensionalityreduction using relevance weighted LDA. School of\n",
            "    Electrical and Electronic Engineering Nanyang Technological University.\n",
            "    2005.\n",
            "  - Claudio Gentile. A New Approximate Maximal Margin Classification\n",
            "    Algorithm. NIPS. 2000.\n"
          ],
          "name": "stdout"
        }
      ]
    },
    {
      "cell_type": "markdown",
      "metadata": {
        "id": "dWI4zAO8HVw9",
        "colab_type": "text"
      },
      "source": [
        "Take a look at the data"
      ]
    },
    {
      "cell_type": "code",
      "metadata": {
        "id": "SMYDfJkiHYNu",
        "colab_type": "code",
        "colab": {
          "base_uri": "https://localhost:8080/",
          "height": 143
        },
        "outputId": "f0735ed9-df7c-479e-822a-fdd4602e1f64"
      },
      "source": [
        "print(digits.data)"
      ],
      "execution_count": 3,
      "outputs": [
        {
          "output_type": "stream",
          "text": [
            "[[ 0.  0.  5. ...  0.  0.  0.]\n",
            " [ 0.  0.  0. ... 10.  0.  0.]\n",
            " [ 0.  0.  0. ... 16.  9.  0.]\n",
            " ...\n",
            " [ 0.  0.  1. ...  6.  0.  0.]\n",
            " [ 0.  0.  2. ... 12.  0.  0.]\n",
            " [ 0.  0. 10. ... 12.  1.  0.]]\n"
          ],
          "name": "stdout"
        }
      ]
    },
    {
      "cell_type": "markdown",
      "metadata": {
        "id": "Ib-nWBe9HaPM",
        "colab_type": "text"
      },
      "source": [
        "Take a look at the target values"
      ]
    },
    {
      "cell_type": "code",
      "metadata": {
        "id": "8flBeTVXHeSU",
        "colab_type": "code",
        "colab": {
          "base_uri": "https://localhost:8080/",
          "height": 35
        },
        "outputId": "15638c1c-aa77-43fc-e144-82948bbdea12"
      },
      "source": [
        "print(digits.target)"
      ],
      "execution_count": 4,
      "outputs": [
        {
          "output_type": "stream",
          "text": [
            "[0 1 2 ... 8 9 8]\n"
          ],
          "name": "stdout"
        }
      ]
    },
    {
      "cell_type": "markdown",
      "metadata": {
        "id": "vWkUQSzUHgH8",
        "colab_type": "text"
      },
      "source": [
        "Visualize the image at index 100"
      ]
    },
    {
      "cell_type": "code",
      "metadata": {
        "id": "vgZczWizHnAG",
        "colab_type": "code",
        "colab": {
          "base_uri": "https://localhost:8080/",
          "height": 293
        },
        "outputId": "2ae8b4cb-5ccc-487e-92af-c6d29fe68bb0"
      },
      "source": [
        "plt.gray() \n",
        "\n",
        "plt.matshow(digits.images[100])\n",
        "\n",
        "plt.show()"
      ],
      "execution_count": 5,
      "outputs": [
        {
          "output_type": "display_data",
          "data": {
            "text/plain": [
              "<Figure size 432x288 with 0 Axes>"
            ]
          },
          "metadata": {
            "tags": []
          }
        },
        {
          "output_type": "display_data",
          "data": {
            "image/png": "[encoded data removed]",
            "text/plain": [
              "<Figure size 288x288 with 1 Axes>"
            ]
          },
          "metadata": {
            "tags": [],
            "needs_background": "light"
          }
        }
      ]
    },
    {
      "cell_type": "markdown",
      "metadata": {
        "id": "MZ46wHFPH0fi",
        "colab_type": "text"
      },
      "source": [
        "Print the target of the image"
      ]
    },
    {
      "cell_type": "code",
      "metadata": {
        "id": "IiQf6YwqH3Ad",
        "colab_type": "code",
        "colab": {
          "base_uri": "https://localhost:8080/",
          "height": 35
        },
        "outputId": "0af30f9e-7ace-4de6-cca8-6aec9344237b"
      },
      "source": [
        "print(digits.target[100])"
      ],
      "execution_count": 6,
      "outputs": [
        {
          "output_type": "stream",
          "text": [
            "4\n"
          ],
          "name": "stdout"
        }
      ]
    },
    {
      "cell_type": "markdown",
      "metadata": {
        "id": "InVYVRjvH44D",
        "colab_type": "text"
      },
      "source": [
        "Create a KMeans model"
      ]
    },
    {
      "cell_type": "code",
      "metadata": {
        "id": "XgYcIoi_H-YB",
        "colab_type": "code",
        "colab": {}
      },
      "source": [
        "model = KMeans(n_clusters=10, random_state=42) # Since there are only 10 digits, the number of clusters will be 10"
      ],
      "execution_count": 0,
      "outputs": []
    },
    {
      "cell_type": "markdown",
      "metadata": {
        "id": "KjS0bApPIEjN",
        "colab_type": "text"
      },
      "source": [
        "Fit the model to the data"
      ]
    },
    {
      "cell_type": "code",
      "metadata": {
        "id": "k_LY9uNRIIhX",
        "colab_type": "code",
        "colab": {
          "base_uri": "https://localhost:8080/",
          "height": 71
        },
        "outputId": "249d24e9-b62d-4678-a98c-6c57af44a339"
      },
      "source": [
        "model.fit(digits.data)"
      ],
      "execution_count": 8,
      "outputs": [
        {
          "output_type": "execute_result",
          "data": {
            "text/plain": [
              "KMeans(algorithm='auto', copy_x=True, init='k-means++', max_iter=300,\n",
              "       n_clusters=10, n_init=10, n_jobs=None, precompute_distances='auto',\n",
              "       random_state=42, tol=0.0001, verbose=0)"
            ]
          },
          "metadata": {
            "tags": []
          },
          "execution_count": 8
        }
      ]
    },
    {
      "cell_type": "markdown",
      "metadata": {
        "id": "cJBbWGJCIKMq",
        "colab_type": "text"
      },
      "source": [
        "Visualize all of the centroids"
      ]
    },
    {
      "cell_type": "code",
      "metadata": {
        "id": "D-Az61yrISQl",
        "colab_type": "code",
        "colab": {
          "base_uri": "https://localhost:8080/",
          "height": 233
        },
        "outputId": "c4addc59-434d-4e29-987f-073886079758"
      },
      "source": [
        "fig = plt.figure(figsize=(8, 3))\n",
        "plt.suptitle('Cluster Center Images', fontsize=14, fontweight='bold')\n",
        "\n",
        "# Create a for loop to display each of the cluster centers\n",
        "for i in range(10):\n",
        "\n",
        "  # Initialize subplots in a grid of 2X5, at i+1th position\n",
        "  ax = fig.add_subplot(2, 5, 1 + i)\n",
        "\n",
        "  # Display images\n",
        "  ax.imshow(model.cluster_centers_[i].reshape((8, 8)), cmap=plt.cm.binary)\n",
        "\n",
        "plt.show()"
      ],
      "execution_count": 10,
      "outputs": [
        {
          "output_type": "display_data",
          "data": {
            "image/png": "[encoded data removed]",
            "text/plain": [
              "<Figure size 576x216 with 10 Axes>"
            ]
          },
          "metadata": {
            "tags": [],
            "needs_background": "light"
          }
        }
      ]
    },
    {
      "cell_type": "markdown",
      "metadata": {
        "id": "H3FdllQ4J8Bx",
        "colab_type": "text"
      },
      "source": [
        "Create a list of new samples"
      ]
    },
    {
      "cell_type": "code",
      "metadata": {
        "id": "izHnFh1LJ-h9",
        "colab_type": "code",
        "colab": {}
      },
      "source": [
        "new_samples = np.array([\n",
        "[0.00,0.00,2.27,3.05,2.97,0.45,0.00,0.00,0.00,1.35,7.62,7.62,7.62,4.26,0.00,0.00,0.00,0.00,2.05,0.23,6.10,4.57,0.00,0.00,0.00,0.00,0.00,0.15,7.32,4.11,0.00,0.00,0.00,0.00,0.00,1.52,7.62,2.43,0.00,0.00,0.00,0.00,0.07,5.39,7.62,3.72,1.66,0.00,0.00,0.00,2.72,7.62,7.62,7.61,6.70,0.00,0.00,0.00,2.57,5.32,1.21,0.67,0.99,0.00],\n",
        "[0.38,7.00,7.24,6.86,7.16,7.24,0.60,0.00,2.13,7.62,1.82,0.00,2.04,7.61,1.75,0.00,2.97,7.62,0.45,0.00,0.91,7.62,2.66,0.00,3.05,7.62,0.00,0.00,0.07,7.62,3.05,0.00,3.05,7.62,0.53,0.00,0.00,7.62,3.05,0.00,1.74,7.62,2.57,0.00,1.21,7.62,2.74,0.00,0.07,6.69,6.85,0.83,4.86,7.54,1.05,0.00,0.00,1.36,7.45,7.46,7.62,3.87,0.00,0.00],\n",
        "[0.00,0.15,6.01,7.62,7.61,6.31,0.00,0.00,0.00,3.72,7.62,3.03,6.45,6.86,0.00,0.00,0.83,7.23,5.70,1.43,7.61,7.00,0.00,0.00,2.05,7.62,7.62,7.62,7.61,7.62,0.00,0.00,0.00,1.67,2.28,2.28,5.46,7.38,0.00,0.00,0.00,0.00,0.00,1.51,7.45,4.78,0.00,0.00,0.00,2.58,5.63,6.37,6.99,0.68,0.00,0.00,0.00,2.19,7.30,7.62,3.71,0.00,0.00,0.00],\n",
        "[0.00,0.00,2.29,7.62,1.29,0.00,0.00,0.00,0.00,0.00,2.28,7.62,0.84,0.00,0.00,0.00,0.00,0.00,1.67,7.62,2.13,0.00,0.00,0.00,0.00,0.00,0.76,7.62,2.29,0.00,0.00,0.00,0.00,0.00,1.21,7.62,2.28,0.00,0.00,0.00,0.00,0.00,2.12,7.62,1.59,0.00,0.00,0.00,0.00,0.00,3.04,7.62,1.05,0.00,0.00,0.00,0.00,0.00,1.28,5.25,0.68,0.00,0.00,0.00]\n",
        "])"
      ],
      "execution_count": 0,
      "outputs": []
    },
    {
      "cell_type": "markdown",
      "metadata": {
        "id": "L_UTnvKPKC7L",
        "colab_type": "text"
      },
      "source": [
        "Test the model and print out the predicted labels"
      ]
    },
    {
      "cell_type": "code",
      "metadata": {
        "id": "r2M5tMulKKSX",
        "colab_type": "code",
        "colab": {
          "base_uri": "https://localhost:8080/",
          "height": 35
        },
        "outputId": "fc9214f3-31c8-4ba5-fb4c-3cfbf054013c"
      },
      "source": [
        "new_labels = model.predict(new_samples)\n",
        "\n",
        "print(new_labels) "
      ],
      "execution_count": 15,
      "outputs": [
        {
          "output_type": "stream",
          "text": [
            "[5 0 9 7]\n"
          ],
          "name": "stdout"
        }
      ]
    },
    {
      "cell_type": "markdown",
      "metadata": {
        "id": "Ne2j1yR1Ka3E",
        "colab_type": "text"
      },
      "source": [
        "Map out each of the labels with the digit we think it represents"
      ]
    },
    {
      "cell_type": "code",
      "metadata": {
        "id": "0Q0QWFoYKeOQ",
        "colab_type": "code",
        "colab": {
          "base_uri": "https://localhost:8080/",
          "height": 35
        },
        "outputId": "362b8311-d299-4468-f065-63c8dc947d90"
      },
      "source": [
        "for i in range(len(new_labels)):\n",
        "  if new_labels[i] == 0:\n",
        "    print(0, end='')\n",
        "  elif new_labels[i] == 1:\n",
        "    print(9, end='')\n",
        "  elif new_labels[i] == 2:\n",
        "    print(2, end='')\n",
        "  elif new_labels[i] == 3:\n",
        "    print(1, end='')\n",
        "  elif new_labels[i] == 4:\n",
        "    print(6, end='')\n",
        "  elif new_labels[i] == 5:\n",
        "    print(8, end='')\n",
        "  elif new_labels[i] == 6:\n",
        "    print(4, end='')\n",
        "  elif new_labels[i] == 7:\n",
        "    print(5, end='')\n",
        "  elif new_labels[i] == 8:\n",
        "    print(7, end='')\n",
        "  elif new_labels[i] == 9:\n",
        "    print(3, end='')"
      ],
      "execution_count": 16,
      "outputs": [
        {
          "output_type": "stream",
          "text": [
            "8035"
          ],
          "name": "stdout"
        }
      ]
    }
  ]
}